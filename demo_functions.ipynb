{
 "cells": [
  {
   "cell_type": "code",
   "execution_count": null,
   "id": "41cc258a-5d89-4443-b3d1-9df93c260427",
   "metadata": {},
   "outputs": [],
   "source": [
    "from gcp_client import *\n",
    "from read_gdoc_helper_functions import *\n",
    "from write_table_helper_functions import *"
   ]
  },
  {
   "cell_type": "code",
   "execution_count": null,
   "id": "d53a62e5-ee3e-4228-b3e6-291fd4bbfb83",
   "metadata": {},
   "outputs": [],
   "source": [
    "GCP = GCPAuth(\"./gcp_secrets\")\n",
    "\n",
    "#read client token\n",
    "#refresh token if expired\n",
    "#if token not found, prompt user to generate token\n",
    "creds = GCP.creds\n",
    "oauth = GCP.oauth\n",
    "\n",
    "gdoc_client = GDocsClient(creds)\n",
    "gsheet_client = GSheetsClient(oauth)\n",
    "gdrive_client = GDriveClient(creds)"
   ]
  },
  {
   "cell_type": "markdown",
   "id": "09b6a524",
   "metadata": {},
   "source": [
    "**gdoc methods**"
   ]
  },
  {
   "cell_type": "markdown",
   "id": "e5cc5bc6",
   "metadata": {},
   "source": [
    "blank template google doc with title placeholder and table_id string\n",
    "\n",
    "![Alt text](screenshots/img1.png)"
   ]
  },
  {
   "cell_type": "code",
   "execution_count": 3,
   "id": "cf03398c-59d1-43c6-98f2-997b321f9ff7",
   "metadata": {},
   "outputs": [
    {
     "name": "stdout",
     "output_type": "stream",
     "text": [
      "Serving document: My Document\n"
     ]
    }
   ],
   "source": [
    "#read google doc\n",
    "doc_id = \"\"\n",
    "doc = gdoc_client.read_doc(doc_id)"
   ]
  },
  {
   "cell_type": "code",
   "execution_count": null,
   "id": "d90a8f8d-6022-449d-b855-5eea63af3710",
   "metadata": {},
   "outputs": [],
   "source": [
    "#table_id as unique identifier. if same id is used then first table instance returned\n",
    "table_id = \"<<table_id>>\"\n",
    "\n",
    "#row index of header row (1 if single title row above headers)\n",
    "header_index = 1\n",
    "\n",
    "#get table body\n",
    "table_body = read_table_section(doc, table_id)"
   ]
  },
  {
   "cell_type": "code",
   "execution_count": 5,
   "id": "265e883f-babf-483b-aa28-b6845c1abc8f",
   "metadata": {},
   "outputs": [],
   "source": [
    "df = pd.DataFrame({\"animal\": [\"mouse\", \"dog\", \"hippo\"],\n",
    "                  \"size\": [\"small\", \"medium\", \"big\"],\n",
    "                  })"
   ]
  },
  {
   "cell_type": "code",
   "execution_count": null,
   "id": "7a5f04c2-e86f-4cf6-9732-d302bd3c2464",
   "metadata": {},
   "outputs": [
    {
     "name": "stdout",
     "output_type": "stream",
     "text": [
      "Serving document: My Document\n"
     ]
    }
   ],
   "source": [
    "#insert empty rows\n",
    "insert_row_request = insert_rows(table_body, df, header_index)\n",
    "reply = gdoc_client.execute_request(doc_id, insert_row_request)\n",
    "\n",
    "#reread doc with inserted empty rows to get cell indexes\n",
    "doc = gdoc_client.read_doc(doc_id)\n",
    "table_body = gdoc_client.read_table_section(doc, table_id)\n",
    "\n",
    "#insert cell text\n",
    "insert_text_request = insert_text(table_body, df, header_index)\n",
    "\n",
    "#replace title placeholder\n",
    "replace_title_request = replace_title_placeholder(\"<<title>>\", \"Table of animals and size\")\n",
    "\n",
    "batch_request = insert_text_request + replace_title_request\n",
    "reply = gdoc_client.execute_request(doc_id, batch_request)"
   ]
  },
  {
   "cell_type": "markdown",
   "id": "47b500d2",
   "metadata": {},
   "source": [
    "populated template\n",
    "\n",
    "![Alt text](screenshots/img2.png)"
   ]
  },
  {
   "cell_type": "code",
   "execution_count": null,
   "id": "05265fa6-d0a7-4902-aead-eb05e6044124",
   "metadata": {},
   "outputs": [
    {
     "name": "stdout",
     "output_type": "stream",
     "text": [
      "Serving document: My Document\n"
     ]
    },
    {
     "data": {
      "text/html": [
       "<div>\n",
       "<style scoped>\n",
       "    .dataframe tbody tr th:only-of-type {\n",
       "        vertical-align: middle;\n",
       "    }\n",
       "\n",
       "    .dataframe tbody tr th {\n",
       "        vertical-align: top;\n",
       "    }\n",
       "\n",
       "    .dataframe thead th {\n",
       "        text-align: right;\n",
       "    }\n",
       "</style>\n",
       "<table border=\"1\" class=\"dataframe\">\n",
       "  <thead>\n",
       "    <tr style=\"text-align: right;\">\n",
       "      <th></th>\n",
       "      <th>animal</th>\n",
       "      <th>size</th>\n",
       "    </tr>\n",
       "  </thead>\n",
       "  <tbody>\n",
       "    <tr>\n",
       "      <th>0</th>\n",
       "      <td>mouse</td>\n",
       "      <td>small</td>\n",
       "    </tr>\n",
       "    <tr>\n",
       "      <th>1</th>\n",
       "      <td>dog</td>\n",
       "      <td>medium</td>\n",
       "    </tr>\n",
       "    <tr>\n",
       "      <th>2</th>\n",
       "      <td>hippo</td>\n",
       "      <td>big</td>\n",
       "    </tr>\n",
       "  </tbody>\n",
       "</table>\n",
       "</div>"
      ],
      "text/plain": [
       "  animal    size\n",
       "0  mouse   small\n",
       "1    dog  medium\n",
       "2  hippo     big"
      ]
     },
     "execution_count": 7,
     "metadata": {},
     "output_type": "execute_result"
    }
   ],
   "source": [
    "#read doc table\n",
    "doc = gdoc_client.read_doc(doc_id)\n",
    "df = read_doc_table(doc, table_id, header_index)\n",
    "\n",
    "#clean formatting objects. gdoc appends \"\\n\" to all cell textruns\n",
    "df = clean_table(df)\n",
    "df"
   ]
  },
  {
   "cell_type": "markdown",
   "id": "39e7df32-3778-40c2-9aae-da0d763547c5",
   "metadata": {},
   "source": [
    "**gsheet methods**"
   ]
  },
  {
   "cell_type": "code",
   "execution_count": null,
   "id": "2dc4c86a-01e5-4e3f-ab98-0417a860c951",
   "metadata": {},
   "outputs": [],
   "source": [
    "sheet_id = \"\"\n",
    "sheet_name = \"\"\n",
    "\n",
    "#create new sheet tab in existing gsheet file and return worksheet\n",
    "_, ws = gsheet_client.read_sheet(sheet_id, sheet_name)\n",
    "\n",
    "#write dataframe to new sheet tab\n",
    "gsheet_client.write_sheet(df, ws)"
   ]
  },
  {
   "cell_type": "code",
   "execution_count": 4,
   "id": "1ea80c8e-1f90-4273-9a3a-b1757da7b1ff",
   "metadata": {},
   "outputs": [
    {
     "name": "stdout",
     "output_type": "stream",
     "text": [
      "Serving sheet: My sheet, Sheet1\n"
     ]
    },
    {
     "data": {
      "text/html": [
       "<div>\n",
       "<style scoped>\n",
       "    .dataframe tbody tr th:only-of-type {\n",
       "        vertical-align: middle;\n",
       "    }\n",
       "\n",
       "    .dataframe tbody tr th {\n",
       "        vertical-align: top;\n",
       "    }\n",
       "\n",
       "    .dataframe thead th {\n",
       "        text-align: right;\n",
       "    }\n",
       "</style>\n",
       "<table border=\"1\" class=\"dataframe\">\n",
       "  <thead>\n",
       "    <tr style=\"text-align: right;\">\n",
       "      <th></th>\n",
       "      <th>animal</th>\n",
       "      <th>size</th>\n",
       "    </tr>\n",
       "  </thead>\n",
       "  <tbody>\n",
       "    <tr>\n",
       "      <th>0</th>\n",
       "      <td>mouse</td>\n",
       "      <td>small</td>\n",
       "    </tr>\n",
       "    <tr>\n",
       "      <th>1</th>\n",
       "      <td>dog</td>\n",
       "      <td>medium</td>\n",
       "    </tr>\n",
       "    <tr>\n",
       "      <th>2</th>\n",
       "      <td>hippo</td>\n",
       "      <td>large</td>\n",
       "    </tr>\n",
       "  </tbody>\n",
       "</table>\n",
       "</div>"
      ],
      "text/plain": [
       "  animal    size\n",
       "0  mouse   small\n",
       "1    dog  medium\n",
       "2  hippo   large"
      ]
     },
     "execution_count": 4,
     "metadata": {},
     "output_type": "execute_result"
    }
   ],
   "source": [
    "#read dataframe from sheet\n",
    "df, _ = gsheet_client.read_sheet(sheet_id, sheet_name)\n",
    "df"
   ]
  },
  {
   "cell_type": "markdown",
   "id": "6cae85e2-0e02-4ed1-a3bc-99de25cf1e11",
   "metadata": {},
   "source": [
    "**gdrive methods**"
   ]
  },
  {
   "cell_type": "code",
   "execution_count": null,
   "id": "ece485ad",
   "metadata": {},
   "outputs": [],
   "source": [
    "#get contents of a gdrive directory\n",
    "directory_id = \"\"\n",
    "parent_directory_id = \"\"\n",
    "\n",
    "content = gdrive_client.gdrive_ls(directory_id, parent_directory_id)"
   ]
  },
  {
   "cell_type": "code",
   "execution_count": null,
   "id": "f9c774a4",
   "metadata": {},
   "outputs": [],
   "source": [
    "#create object in gdrive\n",
    "filename = \"a google doc\"\n",
    "mime_type = \"gdoc\"\n",
    "parent_directory_id = \"\"\n",
    "\n",
    "file_id = gdrive_client.create_gdrive_object(filename, mime_type, parent_directory_id)\n",
    "\n",
    "#create a copy\n",
    "gdrive_client.copy_file(file_id)"
   ]
  }
 ],
 "metadata": {
  "kernelspec": {
   "display_name": "venv",
   "language": "python",
   "name": "python3"
  },
  "language_info": {
   "codemirror_mode": {
    "name": "ipython",
    "version": 3
   },
   "file_extension": ".py",
   "mimetype": "text/x-python",
   "name": "python",
   "nbconvert_exporter": "python",
   "pygments_lexer": "ipython3",
   "version": "3.13.6"
  }
 },
 "nbformat": 4,
 "nbformat_minor": 5
}
